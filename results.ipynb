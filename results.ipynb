{
 "cells": [
  {
   "cell_type": "code",
   "execution_count": 26,
   "metadata": {},
   "outputs": [
    {
     "name": "stderr",
     "output_type": "stream",
     "text": [
      "Exception ignored in: <bound method IPythonKernel._clean_thread_parent_frames of <ipykernel.ipkernel.IPythonKernel object at 0x7f07021807f0>>\n",
      "Traceback (most recent call last):\n",
      "  File \"/home/wissal/anaconda3/envs/my_env/lib/python3.8/site-packages/ipykernel/ipkernel.py\", line 770, in _clean_thread_parent_frames\n",
      "    def _clean_thread_parent_frames(\n",
      "KeyboardInterrupt: \n"
     ]
    },
    {
     "ename": "FileNotFoundError",
     "evalue": "[Errno 2] No such file or directory: '/home/wissal/Documents/github repos cloned/PED-DQN/pursuit/results/logs/r-sc-battery_endless-h-1-m-20x20-Pp-6x3-a-ped_dqn-tu-5000-mq-4-rb-20000-mb-32-lr-0.0001-seed-1-0508130032.txt'",
     "output_type": "error",
     "traceback": [
      "\u001b[0;31m---------------------------------------------------------------------------\u001b[0m",
      "\u001b[0;31mFileNotFoundError\u001b[0m                         Traceback (most recent call last)",
      "Cell \u001b[0;32mIn[26], line 8\u001b[0m\n\u001b[1;32m      5\u001b[0m episodes \u001b[38;5;241m=\u001b[39m []\n\u001b[1;32m      6\u001b[0m rewards \u001b[38;5;241m=\u001b[39m []\n\u001b[0;32m----> 8\u001b[0m \u001b[38;5;28;01mwith\u001b[39;00m \u001b[38;5;28;43mopen\u001b[39;49m\u001b[43m(\u001b[49m\u001b[43myour_file\u001b[49m\u001b[43m,\u001b[49m\u001b[43m \u001b[49m\u001b[38;5;124;43m'\u001b[39;49m\u001b[38;5;124;43mr\u001b[39;49m\u001b[38;5;124;43m'\u001b[39;49m\u001b[43m)\u001b[49m \u001b[38;5;28;01mas\u001b[39;00m file:\n\u001b[1;32m      9\u001b[0m     \u001b[38;5;28;01mfor\u001b[39;00m line \u001b[38;5;129;01min\u001b[39;00m file:\n\u001b[1;32m     10\u001b[0m         parts \u001b[38;5;241m=\u001b[39m line\u001b[38;5;241m.\u001b[39mstrip()\u001b[38;5;241m.\u001b[39msplit(\u001b[38;5;124m'\u001b[39m\u001b[38;5;130;01m\\t\u001b[39;00m\u001b[38;5;124m'\u001b[39m)\n",
      "File \u001b[0;32m~/anaconda3/envs/my_env/lib/python3.8/site-packages/IPython/core/interactiveshell.py:284\u001b[0m, in \u001b[0;36m_modified_open\u001b[0;34m(file, *args, **kwargs)\u001b[0m\n\u001b[1;32m    277\u001b[0m \u001b[38;5;28;01mif\u001b[39;00m file \u001b[38;5;129;01min\u001b[39;00m {\u001b[38;5;241m0\u001b[39m, \u001b[38;5;241m1\u001b[39m, \u001b[38;5;241m2\u001b[39m}:\n\u001b[1;32m    278\u001b[0m     \u001b[38;5;28;01mraise\u001b[39;00m \u001b[38;5;167;01mValueError\u001b[39;00m(\n\u001b[1;32m    279\u001b[0m         \u001b[38;5;124mf\u001b[39m\u001b[38;5;124m\"\u001b[39m\u001b[38;5;124mIPython won\u001b[39m\u001b[38;5;124m'\u001b[39m\u001b[38;5;124mt let you open fd=\u001b[39m\u001b[38;5;132;01m{\u001b[39;00mfile\u001b[38;5;132;01m}\u001b[39;00m\u001b[38;5;124m by default \u001b[39m\u001b[38;5;124m\"\u001b[39m\n\u001b[1;32m    280\u001b[0m         \u001b[38;5;124m\"\u001b[39m\u001b[38;5;124mas it is likely to crash IPython. If you know what you are doing, \u001b[39m\u001b[38;5;124m\"\u001b[39m\n\u001b[1;32m    281\u001b[0m         \u001b[38;5;124m\"\u001b[39m\u001b[38;5;124myou can use builtins\u001b[39m\u001b[38;5;124m'\u001b[39m\u001b[38;5;124m open.\u001b[39m\u001b[38;5;124m\"\u001b[39m\n\u001b[1;32m    282\u001b[0m     )\n\u001b[0;32m--> 284\u001b[0m \u001b[38;5;28;01mreturn\u001b[39;00m \u001b[43mio_open\u001b[49m\u001b[43m(\u001b[49m\u001b[43mfile\u001b[49m\u001b[43m,\u001b[49m\u001b[43m \u001b[49m\u001b[38;5;241;43m*\u001b[39;49m\u001b[43margs\u001b[49m\u001b[43m,\u001b[49m\u001b[43m \u001b[49m\u001b[38;5;241;43m*\u001b[39;49m\u001b[38;5;241;43m*\u001b[39;49m\u001b[43mkwargs\u001b[49m\u001b[43m)\u001b[49m\n",
      "\u001b[0;31mFileNotFoundError\u001b[0m: [Errno 2] No such file or directory: '/home/wissal/Documents/github repos cloned/PED-DQN/pursuit/results/logs/r-sc-battery_endless-h-1-m-20x20-Pp-6x3-a-ped_dqn-tu-5000-mq-4-rb-20000-mb-32-lr-0.0001-seed-1-0508130032.txt'"
     ]
    }
   ],
   "source": [
    "your_file = '/home/wissal/Documents/github repos cloned/PED-DQN/pursuit/results/logs/r-sc-battery_endless-h-1-m-20x20-Pp-6x3-a-ped_dqn-tu-5000-mq-4-rb-20000-mb-32-lr-0.0001-seed-1-0508130032.txt'\n",
    "import tensorflow as tf\n",
    "import torch\n",
    "# Parse the data from the text file and extract episodes and rewards\n",
    "episodes = []\n",
    "rewards = []\n",
    "\n",
    "with open(your_file, 'r') as file:\n",
    "    for line in file:\n",
    "        parts = line.strip().split('\\t')\n",
    "        if len(parts) >= 4:\n",
    "            if parts[2] == 'steps':\n",
    "                episodes.append(int(parts[1]))\n",
    "            elif parts[2] == 'b_rwd':\n",
    "                reward_values = list(map(float, parts[3:]))\n",
    "                rewards.append(reward_values)\n",
    "\n",
    "device = \"GPU\" if tf.config.list_physical_devices('GPU') else \"CPU\"\n",
    "print(\"TensorFlow device:\", device)\n",
    "\n",
    "# Write summaries using SummaryWriter\n",
    "log_dir = 'logs'  # Directory to store the event files\n",
    "with tf.summary.create_file_writer(log_dir).as_default():\n",
    "    for episode, reward in zip(episodes, rewards):\n",
    "        tf.summary.scalar('b_rwd', reward[0], step=episode)\n",
    "\n",
    "import matplotlib.pyplot as plt\n",
    "\n",
    "plt.figure(facecolor='white')\n",
    "\n",
    "plt.plot(episodes, [reward[0] for reward in rewards], label='Reward')\n",
    "plt.xlabel('Episodes')\n",
    "plt.ylabel('Reward (b_rwd)')\n",
    "plt.title('Episodes vs Reward')\n",
    "plt.legend()\n",
    "plt.grid(False)\n",
    "plt.show()"
   ]
  },
  {
   "cell_type": "code",
   "execution_count": 103,
   "metadata": {},
   "outputs": [
    {
     "name": "stdout",
     "output_type": "stream",
     "text": [
      "2.11.1\n",
      "[]\n"
     ]
    }
   ],
   "source": [
    "import tensorflow\n",
    "print(tensorflow.__version__)\n",
    "print(tf.config.list_physical_devices('GPU'))"
   ]
  },
  {
   "cell_type": "code",
   "execution_count": 107,
   "metadata": {},
   "outputs": [
    {
     "name": "stdout",
     "output_type": "stream",
     "text": [
      "Logs written to logs. Use `tensorboard --logdir=logs` to visualize.\n"
     ]
    }
   ],
   "source": [
    "import pandas as pd\n",
    "import tensorflow as tf\n",
    "import numpy as np\n",
    "\n",
    "# Define the path to your log file\n",
    "log_file = '/home/wissal/Documents/github repos cloned/PED_DQN/PED-DQN 3333/pursuit/results/logs/r-sc-battery_endless-h-1-m-20x20-Pp-9x8-a-ind_dqn-tu-5000-mq-4-rb-20000-mb-32-lr-0.0001-seed-1-0519163454.txt'\n",
    "\n",
    "# Read the data from the file\n",
    "data = pd.read_csv(log_file, delimiter=\"\\t\", header=None, names=[\"timestamp\", \"episode\", \"metric\", *range(9)])\n",
    "\n",
    "# Group the data by episode\n",
    "grouped_data = data.groupby(\"episode\")\n",
    "\n",
    "# Create a summary writer\n",
    "log_dir = 'logs'\n",
    "summary_writer = tf.summary.create_file_writer(log_dir)\n",
    "\n",
    "# Define a function to create summary logs\n",
    "def create_summary(writer, tag, value, step):\n",
    "    with writer.as_default():\n",
    "        tf.summary.scalar(name=tag, data=value, step=step)\n",
    "        writer.flush()\n",
    "\n",
    "# Iterate through the grouped data and log metrics to TensorBoard\n",
    "for episode, group in grouped_data:\n",
    "    for metric in group[\"metric\"].unique():\n",
    "        metric_data = group[group[\"metric\"] == metric]\n",
    "        #print(metric_data)\n",
    "        values = metric_data.iloc[:, 3:12].values.flatten().astype(float)\n",
    "        mean_value = np.mean(values)\n",
    "        \n",
    "        create_summary(summary_writer, metric + '/mean', mean_value, episode)\n",
    "\n",
    "        for i, value in enumerate(values):\n",
    "            create_summary(summary_writer, metric + f'/value_{i}', value, episode)\n",
    "\n",
    "print(f\"Logs written to {log_dir}. Use `tensorboard --logdir={log_dir}` to visualize.\")"
   ]
  }
 ],
 "metadata": {
  "kernelspec": {
   "display_name": "myenv",
   "language": "python",
   "name": "python3"
  },
  "language_info": {
   "codemirror_mode": {
    "name": "ipython",
    "version": 3
   },
   "file_extension": ".py",
   "mimetype": "text/x-python",
   "name": "python",
   "nbconvert_exporter": "python",
   "pygments_lexer": "ipython3",
   "version": "3.8.19"
  }
 },
 "nbformat": 4,
 "nbformat_minor": 2
}
